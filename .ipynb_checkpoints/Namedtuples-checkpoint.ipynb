{
 "cells": [
  {
   "cell_type": "markdown",
   "metadata": {},
   "source": [
    "### Namedtuples"
   ]
  },
  {
   "cell_type": "markdown",
   "metadata": {},
   "source": [
    "`tuples properties`\n",
    "* Tuple is a container. i.e it contains other objets \n",
    "* Tuple contains heterogeneous/homogeneous data \n",
    "  - heterogeneous means we can have integers,strings,list in the tuple \n",
    "  - homogeneous means we can have only integers or only strings in the tuple\n",
    "* Tuples are iterable and immutable.\n",
    "* Tuples are indexable\n",
    "* Very important: the order of the elements in the has significant meaning.\n",
    "  - Refer Example 1: first is the name i.e John, second is the age and third is the address \n",
    "  - Refer Example 3:first is the x coordinate i.e x=10 and second is the y coordinate in the two dimentional space"
   ]
  },
  {
   "cell_type": "code",
   "execution_count": 2,
   "metadata": {},
   "outputs": [
    {
     "name": "stdout",
     "output_type": "stream",
     "text": [
      "('John', 31, 'New York')\n"
     ]
    }
   ],
   "source": [
    "#Example 1\n",
    "t=('John',31,'New York') #heterogeneous\n",
    "print(t)"
   ]
  },
  {
   "cell_type": "code",
   "execution_count": 3,
   "metadata": {
    "scrolled": true
   },
   "outputs": [
    {
     "name": "stdout",
     "output_type": "stream",
     "text": [
      "(1, 2, 3)\n"
     ]
    }
   ],
   "source": [
    "#Example 2\n",
    "t1=(1,2,3) #homogeneous\n",
    "print(t1)"
   ]
  },
  {
   "cell_type": "code",
   "execution_count": null,
   "metadata": {},
   "outputs": [],
   "source": [
    "#Example 3: coordinates representation\n",
    "p=(10,20)"
   ]
  },
  {
   "cell_type": "markdown",
   "metadata": {},
   "source": [
    "#### why to use namedtuples?\n",
    "* as we know the order of the elements in the `tuple` has significant meaning, we can give meaningful names to the positions for better code readability,ease of access to the tuple elements and simplicity."
   ]
  },
  {
   "cell_type": "code",
   "execution_count": null,
   "metadata": {},
   "outputs": [],
   "source": []
  }
 ],
 "metadata": {
  "kernelspec": {
   "display_name": "Python 3",
   "language": "python",
   "name": "python3"
  },
  "language_info": {
   "codemirror_mode": {
    "name": "ipython",
    "version": 3
   },
   "file_extension": ".py",
   "mimetype": "text/x-python",
   "name": "python",
   "nbconvert_exporter": "python",
   "pygments_lexer": "ipython3",
   "version": "3.7.1"
  }
 },
 "nbformat": 4,
 "nbformat_minor": 2
}
