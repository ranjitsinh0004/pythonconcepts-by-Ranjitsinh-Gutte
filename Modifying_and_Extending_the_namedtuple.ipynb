{
 "cells": [
  {
   "cell_type": "code",
   "execution_count": 5,
   "metadata": {},
   "outputs": [
    {
     "name": "stdout",
     "output_type": "stream",
     "text": [
      "Stock(symbol='NSE', year=2020, month='march', day=13, open=33350, high=35000, low=33350, close=34550)\n",
      "2868487366240\n"
     ]
    }
   ],
   "source": [
    "from collections import namedtuple\n",
    "Stock=namedtuple('Stock','symbol year month day open high low close')\n",
    "NSE=Stock('NSE',2020,'march',13,33350,35000,33350,34550)\n",
    "print(NSE)\n",
    "print(id(NSE))"
   ]
  },
  {
   "cell_type": "markdown",
   "metadata": {},
   "source": [
    "#### want to change the close value"
   ]
  },
  {
   "cell_type": "markdown",
   "metadata": {},
   "source": [
    "`way 1`"
   ]
  },
  {
   "cell_type": "code",
   "execution_count": 16,
   "metadata": {
    "scrolled": true
   },
   "outputs": [
    {
     "name": "stdout",
     "output_type": "stream",
     "text": [
      "Stock(symbol='NSE', year=2020, month='march', day=13, open=33350, high=35000, low=33350, close=34560)\n",
      "2868487366240\n"
     ]
    }
   ],
   "source": [
    "NSE=Stock(NSE.symbol,NSE.year,NSE.month,NSE.day,NSE.open,NSE.high,NSE.low,34560)\n",
    "print(NSE)\n",
    "print(id(NSE))"
   ]
  },
  {
   "cell_type": "markdown",
   "metadata": {},
   "source": [
    "we could change the close value but the new object of NSE is created just observe the ids"
   ]
  },
  {
   "cell_type": "markdown",
   "metadata": {},
   "source": [
    "`way 2: unpacking`"
   ]
  },
  {
   "cell_type": "markdown",
   "metadata": {},
   "source": [
    "* `*values` returns `list` of all the element(excluding last one), whereas '_' here is \n",
    "a dummy variable which holds last field value i.e `close`"
   ]
  },
  {
   "cell_type": "code",
   "execution_count": 12,
   "metadata": {
    "scrolled": true
   },
   "outputs": [
    {
     "name": "stdout",
     "output_type": "stream",
     "text": [
      "['NSE', 2020, 'march', 13, 33350, 35000, 33350]\n",
      "34560\n",
      "['NSE', 2020, 'march', 13, 33350, 35000, 33350, 34565]\n"
     ]
    }
   ],
   "source": [
    "*values,_=NSE  \n",
    "print(values)  #list\n",
    "print(_)\n",
    "values.append(34565)\n",
    "print(values)"
   ]
  },
  {
   "cell_type": "code",
   "execution_count": 18,
   "metadata": {},
   "outputs": [
    {
     "name": "stdout",
     "output_type": "stream",
     "text": [
      "Stock(symbol='NSE', year=2020, month='march', day=13, open=33350, high=35000, low=33350, close=34565)\n"
     ]
    }
   ],
   "source": [
    "NSE=Stock(*values)\n",
    "print(NSE)"
   ]
  },
  {
   "cell_type": "markdown",
   "metadata": {},
   "source": [
    "`way 3: slicing`"
   ]
  },
  {
   "cell_type": "markdown",
   "metadata": {},
   "source": [
    "* refer following example in which `x` is a tuple and there is no method to append or extend the `tuple` because tuple is `immutable` \n",
    "* therefore we have to `concatinate the new tuple` into the `tuple (x)` and this concatination creates new tuple object"
   ]
  },
  {
   "cell_type": "code",
   "execution_count": 46,
   "metadata": {},
   "outputs": [
    {
     "name": "stdout",
     "output_type": "stream",
     "text": [
      "Stock(symbol='NSE', year=2020, month='march', day=13, open=33350, high=35000, low=33350, close=34550)\n",
      "('NSE', 2020, 'march', 13, 33350, 35000, 33350)\n",
      "\n",
      "y with updated close value:  Stock(symbol='NSE', year=2020, month='march', day=13, open=33350, high=35000, low=33350, close=34568)\n"
     ]
    }
   ],
   "source": [
    "from collections import namedtuple\n",
    "Stock=namedtuple('Stock','symbol year month day open high low close')\n",
    "NSE=Stock('NSE',2020,'march',13,33350,35000,33350,34550)\n",
    "print(NSE)\n",
    "x=NSE[0:7]\n",
    "print(x) #x is a tuple\n",
    "print()\n",
    "z=x+(34568,)\n",
    "y=Stock(*z)\n",
    "print('y with updated close value: ',y)"
   ]
  },
  {
   "cell_type": "markdown",
   "metadata": {},
   "source": [
    "`or`"
   ]
  },
  {
   "cell_type": "code",
   "execution_count": 47,
   "metadata": {},
   "outputs": [
    {
     "name": "stdout",
     "output_type": "stream",
     "text": [
      "Stock(symbol='NSE', year=2020, month='march', day=13, open=33350, high=35000, low=33350, close=34567)\n"
     ]
    }
   ],
   "source": [
    "y=Stock(*(x+(34567,)))\n",
    "print(y)"
   ]
  },
  {
   "cell_type": "markdown",
   "metadata": {},
   "source": [
    "`or`"
   ]
  },
  {
   "cell_type": "code",
   "execution_count": 34,
   "metadata": {},
   "outputs": [
    {
     "name": "stdout",
     "output_type": "stream",
     "text": [
      "Stock(symbol='NSE', year=2020, month='march', day=13, open=33350, high=35000, low=33350, close=34567)\n"
     ]
    }
   ],
   "source": [
    "YY=Stock(*x,34567)\n",
    "print(YY)"
   ]
  }
 ],
 "metadata": {
  "kernelspec": {
   "display_name": "Python 3",
   "language": "python",
   "name": "python3"
  },
  "language_info": {
   "codemirror_mode": {
    "name": "ipython",
    "version": 3
   },
   "file_extension": ".py",
   "mimetype": "text/x-python",
   "name": "python",
   "nbconvert_exporter": "python",
   "pygments_lexer": "ipython3",
   "version": "3.7.1"
  }
 },
 "nbformat": 4,
 "nbformat_minor": 2
}
