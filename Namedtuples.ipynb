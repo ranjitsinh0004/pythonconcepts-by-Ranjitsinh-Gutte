{
 "cells": [
  {
   "cell_type": "markdown",
   "metadata": {},
   "source": [
    "### Namedtuples"
   ]
  },
  {
   "cell_type": "markdown",
   "metadata": {},
   "source": [
    "`tuples properties`\n",
    "* Tuple is a container. i.e it contains other objets \n",
    "* Tuple contains heterogeneous/homogeneous data \n",
    "  - heterogeneous means we can have integers,strings,list in the tuple \n",
    "  - homogeneous means we can have only integers or only strings in the tuple\n",
    "* Tuples are iterable and immutable.\n",
    "* Tuples are indexable\n",
    "* Very important: the order of the elements in the has significant meaning.\n",
    "  - Refer Example 1: first is the name i.e John, second is the age and third is the address \n",
    "  - Refer Example 3:first is the x coordinate i.e x=10 and second is the y coordinate in the two dimentional space"
   ]
  },
  {
   "cell_type": "markdown",
   "metadata": {},
   "source": [
    "`Example 1`"
   ]
  },
  {
   "cell_type": "code",
   "execution_count": 18,
   "metadata": {},
   "outputs": [
    {
     "name": "stdout",
     "output_type": "stream",
     "text": [
      "('John', 31, 'New York')\n"
     ]
    }
   ],
   "source": [
    "t=('John',31,'New York') #heterogeneous\n",
    "print(t)"
   ]
  },
  {
   "cell_type": "markdown",
   "metadata": {},
   "source": [
    "`Example 2`"
   ]
  },
  {
   "cell_type": "code",
   "execution_count": 17,
   "metadata": {
    "scrolled": true
   },
   "outputs": [
    {
     "name": "stdout",
     "output_type": "stream",
     "text": [
      "(1, 2, 3)\n"
     ]
    }
   ],
   "source": [
    "t1=(1,2,3) #homogeneous\n",
    "print(t1)"
   ]
  },
  {
   "cell_type": "markdown",
   "metadata": {},
   "source": [
    "`Example 3: coordinates representation`"
   ]
  },
  {
   "cell_type": "code",
   "execution_count": 16,
   "metadata": {},
   "outputs": [],
   "source": [
    "p=(10,20)"
   ]
  },
  {
   "cell_type": "markdown",
   "metadata": {},
   "source": [
    "#### why to use namedtuples?\n",
    "* as we know the order of the elements in the `tuple` has significant meaning, we can give meaningful names to the positions for better code readability,ease of access to the tuple elements and simplicity.\n",
    "* Refer the following Example 4, every position has some meaning.\n",
    "    - first one is name of country, second is state, third is district,fourth is city, fifth is pin code and sixth is population.\n",
    "    - but following code doesnot say this clearly we can make it more readable.\n",
    "    - moreover if i want to access the elements, i have to count the indexes and then i can access the elements.\n",
    "    - so we can use `namedtuples` here"
   ]
  },
  {
   "cell_type": "markdown",
   "metadata": {},
   "source": [
    "`Example 4`"
   ]
  },
  {
   "cell_type": "code",
   "execution_count": 4,
   "metadata": {},
   "outputs": [
    {
     "name": "stdout",
     "output_type": "stream",
     "text": [
      "('India', 'Maharashtra', 'Mumbai', 'Bandra', 400051, 12851726)\n"
     ]
    }
   ],
   "source": [
    "CityInfo=('India','Maharashtra','Mumbai','Bandra',400051,1_28_51_726)\n",
    "print(tu)"
   ]
  },
  {
   "cell_type": "markdown",
   "metadata": {},
   "source": [
    "#### `propeties of namedtuples`\n",
    "* `namedtuples` are inherited from tuple. In other words namedtuples are the subclass of tuple\n",
    "    - so that we can use all the procedures (like slicing, finding max, iterating etc) of tuple\n",
    "* `namedtuples` are used to assign property names to the positional elements \n",
    "* we have to import `namedtuples` from `collections` standard library module to use \n",
    "* basically named tuple is a function and it generates `new class'\n",
    "    - this `new class` is inherited from `tuple` class therefore we can say `namedtuples` are instances of `tuple` class\n",
    "    - therefore namedtuples follows `immutability` as that of `tuples`"
   ]
  },
  {
   "cell_type": "markdown",
   "metadata": {},
   "source": [
    "`Example 5`"
   ]
  },
  {
   "cell_type": "code",
   "execution_count": 29,
   "metadata": {},
   "outputs": [
    {
     "name": "stdout",
     "output_type": "stream",
     "text": [
      "city:  CityDetails(country='India', state='Maharashtra', district='Mumbai', cityname='Bandra', pin=400051, population=12851726)\n",
      "here city is instance of tuples:  True\n"
     ]
    }
   ],
   "source": [
    "from collections import namedtuple\n",
    "CityDetails1=namedtuple('CityDetails',['country','state','district','cityname','pin','population'])\n",
    "city=CityDetails1('India','Maharashtra','Mumbai','Bandra',400051,1_28_51_726)\n",
    "print('city: ',city)\n",
    "print('here city is instance of tuples: ', isinstance(city,tuple))"
   ]
  },
  {
   "cell_type": "markdown",
   "metadata": {},
   "source": [
    "* see the output of `Example 5` its more readable and simpler one to understand.\n",
    "* Moreover we neednot to care about the index counting to access the elements. Refer `Example 6`"
   ]
  },
  {
   "cell_type": "markdown",
   "metadata": {},
   "source": [
    "`Example 6`"
   ]
  },
  {
   "cell_type": "code",
   "execution_count": 28,
   "metadata": {},
   "outputs": [
    {
     "name": "stdout",
     "output_type": "stream",
     "text": [
      "city:  CityDetails(country='India', state='Maharashtra', district='Mumbai', cityname='Bandra', pin=400051, population=12851726)\n",
      "here city is instance of tuples: True\n",
      "******************************\n",
      "Accessing the elements\n",
      "country:  India\n",
      "state:  Maharashtra\n",
      "cityname:  Bandra\n"
     ]
    }
   ],
   "source": [
    "from collections import namedtuple\n",
    "CityDetails1=namedtuple('CityDetails',['country','state','district','cityname','pin','population'])\n",
    "city=CityDetails1('India','Maharashtra','Mumbai','Bandra',400051,1_28_51_726)\n",
    "print('city: ',city)\n",
    "print('here city is instance of tuples:', isinstance(city,tuple))\n",
    "print('*'*30)\n",
    "print('Accessing the elements')\n",
    "print('country: ',city.country)\n",
    "print('state: ',city.state)\n",
    "print('cityname: ',city.cityname)"
   ]
  },
  {
   "cell_type": "markdown",
   "metadata": {},
   "source": [
    "#### namedtuple fields\n",
    "* finding the fields of the namedtuple"
   ]
  },
  {
   "cell_type": "code",
   "execution_count": 34,
   "metadata": {
    "scrolled": true
   },
   "outputs": [
    {
     "name": "stdout",
     "output_type": "stream",
     "text": [
      "('country', 'state', 'district', 'cityname', 'pin', 'population')\n"
     ]
    }
   ],
   "source": [
    "print(city._fields) #gives fields information"
   ]
  },
  {
   "cell_type": "markdown",
   "metadata": {},
   "source": [
    "#### converting namedtuples into dictionary"
   ]
  },
  {
   "cell_type": "code",
   "execution_count": 39,
   "metadata": {},
   "outputs": [
    {
     "name": "stdout",
     "output_type": "stream",
     "text": [
      "OrderedDict([('country', 'India'), ('state', 'Maharashtra'), ('district', 'Mumbai'), ('cityname', 'Bandra'), ('pin', 400051), ('population', 12851726)])\n"
     ]
    }
   ],
   "source": [
    "a=city._asdict()\n",
    "print(a)"
   ]
  },
  {
   "cell_type": "markdown",
   "metadata": {},
   "source": [
    "* In above example you can see we got `OrderedDict`(ordered dictionary).This is the new feature in `python 3.6` version. \n",
    "* keys are ordered in ordered dictionary\n",
    "* we can convert the ordered dictionary into our known unordered dictionary."
   ]
  },
  {
   "cell_type": "code",
   "execution_count": 40,
   "metadata": {
    "scrolled": true
   },
   "outputs": [
    {
     "data": {
      "text/plain": [
       "{'country': 'India',\n",
       " 'state': 'Maharashtra',\n",
       " 'district': 'Mumbai',\n",
       " 'cityname': 'Bandra',\n",
       " 'pin': 400051,\n",
       " 'population': 12851726}"
      ]
     },
     "execution_count": 40,
     "metadata": {},
     "output_type": "execute_result"
    }
   ],
   "source": [
    "dict(a)"
   ]
  },
  {
   "cell_type": "markdown",
   "metadata": {},
   "source": [
    "#### Is there another way to give meaninggul names to the position ?\n",
    "* yes. we can use the classes.\n",
    "* but the instances of the class are mutable."
   ]
  },
  {
   "cell_type": "code",
   "execution_count": 50,
   "metadata": {},
   "outputs": [
    {
     "name": "stdout",
     "output_type": "stream",
     "text": [
      "CityDetails(cityname=Bandra)\n",
      "******************************\n",
      "Accessing the elements\n",
      "country:  India\n",
      "state:  Maharashtra\n",
      "cityname:  Bandra\n"
     ]
    }
   ],
   "source": [
    "class CityDetails:\n",
    "    def __init__(self,country,state,district,cityname,pin,population):\n",
    "        self.country=country\n",
    "        self.state=state\n",
    "        self.district=district\n",
    "        self.cityname=cityname\n",
    "        self.pin=pin\n",
    "        self.population=population\n",
    "    def __repr__(self):  #object representation\n",
    "        return f'{self.__class__.__name__}(cityname={self.cityname})'\n",
    "city1=CityDetails(\"India\",'Maharashtra','Mumbai','Bandra',400051,1_28_51_726)\n",
    "print(city1)\n",
    "print('*'*30)\n",
    "print('Accessing the elements')\n",
    "print('country: ',city1.country)\n",
    "print('state: ',city1.state)\n",
    "print('cityname: ',city1.cityname)"
   ]
  },
  {
   "cell_type": "markdown",
   "metadata": {},
   "source": [
    "#### then what to do?\n",
    "* as per the requirement of mutability and immutability, you can choose the namedtuple approach or class approch."
   ]
  }
 ],
 "metadata": {
  "kernelspec": {
   "display_name": "Python 3",
   "language": "python",
   "name": "python3"
  },
  "language_info": {
   "codemirror_mode": {
    "name": "ipython",
    "version": 3
   },
   "file_extension": ".py",
   "mimetype": "text/x-python",
   "name": "python",
   "nbconvert_exporter": "python",
   "pygments_lexer": "ipython3",
   "version": "3.7.1"
  }
 },
 "nbformat": 4,
 "nbformat_minor": 2
}
